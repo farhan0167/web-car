{
 "cells": [
  {
   "cell_type": "markdown",
   "metadata": {},
   "source": [
    "# Interactive Analytics Report\n",
    "\n",
    "Based on the analysis of Model_Notebook, I wanted to create an interactive notebook which would let users get a report of the dataset. Inspired from  https://towardsdatascience.com/bring-your-jupyter-notebook-to-life-with-interactive-widgets-bc12e03f0916 "
   ]
  },
  {
   "cell_type": "markdown",
   "metadata": {},
   "source": [
    "Before you use the code bellow, please make sure to install the following using your terminal in the environment you are using:"
   ]
  },
  {
   "cell_type": "raw",
   "metadata": {},
   "source": [
    "pip install ipywidgets\n",
    "\n",
    "jupyter nbextension enable --py widgetsnbextension"
   ]
  },
  {
   "cell_type": "code",
   "execution_count": 10,
   "metadata": {},
   "outputs": [
    {
     "data": {
      "text/plain": [
       "'/Users/farhanishraq/Downloads/Winter2019-20/car_price_app/service/venv'"
      ]
     },
     "execution_count": 10,
     "metadata": {},
     "output_type": "execute_result"
    }
   ],
   "source": [
    "import pandas as pd\n",
    "import numpy as np \n",
    "import matplotlib.pyplot as plt\n",
    "fontsize = 15\n",
    "import seaborn as sns \n",
    "fontsize=15\n",
    "fontweight='bold'\n",
    "sns.set(rc={'figure.figsize':(13,10)})\n",
    "sns.set_style('whitegrid')\n",
    "sns.set_palette(\"GnBu_d\")\n",
    "import ipywidgets as widgets\n",
    "import os\n",
    "os.getcwd()"
   ]
  },
  {
   "cell_type": "code",
   "execution_count": 5,
   "metadata": {},
   "outputs": [],
   "source": [
    "df = pd.read_csv('car.csv')"
   ]
  },
  {
   "cell_type": "code",
   "execution_count": 2,
   "metadata": {},
   "outputs": [
    {
     "name": "stdout",
     "output_type": "stream",
     "text": [
      "Did you install the widgets? Please type y or n to proceed.n\n",
      "Please install the dependecy before proceeding\n"
     ]
    }
   ],
   "source": [
    "interaction = input(\"Did you install the widgets? Please type y or n to proceed.\")\n",
    "interaction\n",
    "if interaction != 'y':\n",
    "                    print(\"Please install the dependecy before proceeding\")\n",
    "                    "
   ]
  },
  {
   "cell_type": "code",
   "execution_count": 6,
   "metadata": {},
   "outputs": [],
   "source": [
    "ALL = 'ALL'\n",
    "def unique_sorted_values_plus_ALL(array):\n",
    "    unique = array.unique().tolist()\n",
    "    unique.sort()\n",
    "    unique.insert(0, ALL)\n",
    "    return unique"
   ]
  },
  {
   "cell_type": "code",
   "execution_count": 46,
   "metadata": {},
   "outputs": [
    {
     "data": {
      "application/vnd.jupyter.widget-view+json": {
       "model_id": "7f5ddb5223354a9f97be425e04cc6791",
       "version_major": 2,
       "version_minor": 0
      },
      "text/plain": [
       "Dropdown(options=('ALL', '320i', '5 Series', '520d', '7 Series', 'A3', 'A6', 'Accent', 'Accord', 'Allion', 'Al…"
      ]
     },
     "metadata": {},
     "output_type": "display_data"
    }
   ],
   "source": [
    "dropdown_model_name = widgets.Dropdown(options = unique_sorted_values_plus_ALL(df.model))\n",
    "output_model_name = widgets.Output()\n",
    "\n",
    "def dropdown_model_eventhandler(change):\n",
    "    output_model_name.clear_output()\n",
    "    with output_model_name:\n",
    "        if (change.new == ALL):\n",
    "            display(df)\n",
    "        else:\n",
    "            \n",
    "            avg = df[df.model == change.new ].price.mean().round(2)\n",
    "            med = df[df.model == change.new ].price.median().round(2)\n",
    "            low = df[df.model == change.new ].price.min().round(2)\n",
    "            high = df[df.model == change.new ].price.max().round(2)\n",
    "            display(df[df.model == change.new])\n",
    "            print(\"Report: \")\n",
    "            print((\"The Average Price for {} is btd\").format(change.new), avg)\n",
    "            print((\"The Median Price for {} is btd\").format(change.new), med)\n",
    "            print((\"Lowest Price for {} is btd\").format(change.new), low)\n",
    "            print((\"Highest Price for {} is btd\").format(change.new), high)\n",
    "            print((\"There are {} instances\").format(len(df[df.model == change.new ])))\n",
    "            sns.barplot(x='model',y='price',hue='model_yr',data=df[df.model == change.new ])\n",
    "            plt.title(\"Price by Model Year\",fontsize=fontsize,\n",
    "                     fontweight=fontweight)\n",
    "            plt.legend(loc='upper right',title='Legend')\n",
    "            plt.xlabel(\"Model\",fontsize=fontsize,fontweight=fontweight)\n",
    "            plt.ylabel(\"Price\",fontsize=fontsize,fontweight=fontweight)\n",
    "            plt.ylim(300000,8000000)\n",
    "            plt.show()\n",
    "    \n",
    "dropdown_model_name.observe(dropdown_model_eventhandler, names='value')\n",
    "display(dropdown_model_name)"
   ]
  },
  {
   "cell_type": "code",
   "execution_count": 47,
   "metadata": {},
   "outputs": [
    {
     "data": {
      "application/vnd.jupyter.widget-view+json": {
       "model_id": "54f907f364704f67bf87d49684a29a9e",
       "version_major": 2,
       "version_minor": 0
      },
      "text/plain": [
       "Output()"
      ]
     },
     "metadata": {},
     "output_type": "display_data"
    }
   ],
   "source": [
    "display(output_model_name)"
   ]
  },
  {
   "cell_type": "code",
   "execution_count": null,
   "metadata": {},
   "outputs": [],
   "source": []
  }
 ],
 "metadata": {
  "kernelspec": {
   "display_name": ".venv",
   "language": "python",
   "name": ".venv"
  },
  "language_info": {
   "codemirror_mode": {
    "name": "ipython",
    "version": 3
   },
   "file_extension": ".py",
   "mimetype": "text/x-python",
   "name": "python",
   "nbconvert_exporter": "python",
   "pygments_lexer": "ipython3",
   "version": "3.8.1"
  }
 },
 "nbformat": 4,
 "nbformat_minor": 4
}
